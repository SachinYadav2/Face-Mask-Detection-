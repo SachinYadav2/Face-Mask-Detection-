{
 "cells": [
  {
   "cell_type": "markdown",
   "id": "d731fb5f",
   "metadata": {},
   "source": [
    "# ALL STEP \n",
    "## direct aap step 3 ko run pad kr run kr skte h code"
   ]
  },
  {
   "cell_type": "markdown",
   "id": "d66b69b2",
   "metadata": {},
   "source": [
    "### 1- Open the Face Mask Classification With MultiClass.ipynb file \n",
    "#### This file provide the overview of your data set and as well as Model and Accuracy and  -   Es file me hmne all coding ke h start to model create krne tak phir hmne jo model train kiya use download kr liya and then use use kiya h aage ke file Model Name = model.h5 jo ke vgg19 ke trhow train model h And yh code hmne online plate form pr run kiya h \n",
    "####  wired_mask without_mask , with_mask ke h becuse hmne jb model ko train kiya to three class thi and by default all images ke size 128*128 the but hmne use 224*224 me convert kiya taki acche result aae ( Note Point - Jb hm new image predict kre jo hme 224 224 ke image he pass krne h )"
   ]
  },
  {
   "cell_type": "markdown",
   "id": "4b4526ac",
   "metadata": {},
   "source": [
    "## 2- Open the file test part 1 Image ke liye.ipynb(<< ye testing ke liye h ) and final_Img_Tester.py(ye file hmari wep application ke liye h \n",
    "### Es file me hmne jo model.h5 file download ke the use load kiya and hmne model ke throw predict krwaya h ke con se image me wired_mask without_mask , with_mask ke h becuse hmne jb model ko train kiya to three class thi to output bhi enhi three class me se ek ka aege \n",
    "### Hmne acche result ke liye phle full image me se face ko crop kiya (using pretrain opencv ka ) then hmne jo crop face tha us par model ko predict krwaya h \n",
    "### And then hmne streamlit framework ke web appliccation me ye sare flow convert\n",
    "### Open the file test part 1 Image ke liye.ipynb es file me hmne code kra h ke kese hm image me mask detect krenge and eska same code copy kiya h final_Img_Tester.py es file me and Aap final_Img_Tester.py es file ko run kr skte h direct using this command on your terminal streamlit run final_Img_Tester.py\n"
   ]
  },
  {
   "cell_type": "markdown",
   "id": "8d23cec8",
   "metadata": {},
   "source": [
    "# 3- test part 2 video ke liye.ipynb and video_img_Tester.py\n",
    "\n",
    "### Uper bala jesa concept h ke test part 2 video ke liye.ipynb es file me oply predict ke and video_img_Tester.py esme fully project h jo ke Live tumara cemra open krke face mask detect krta h run code on your jupyter ;  test part 2 video ke liye.ipynb"
   ]
  },
  {
   "cell_type": "markdown",
   "id": "aa05f7ce",
   "metadata": {},
   "source": [
    "# 4- Model ppt"
   ]
  },
  {
   "cell_type": "markdown",
   "id": "85f3882d",
   "metadata": {},
   "source": [
    "### All information about this project and\n",
    "#### READfile/ppt"
   ]
  },
  {
   "cell_type": "markdown",
   "id": "bd7c285e",
   "metadata": {},
   "source": [
    "# 5- All Graph and model inside the folder \n",
    "### PROJECT/Model image"
   ]
  },
  {
   "cell_type": "code",
   "execution_count": null,
   "id": "8a9e2a0f",
   "metadata": {},
   "outputs": [],
   "source": []
  }
 ],
 "metadata": {
  "kernelspec": {
   "display_name": "Python 3 (ipykernel)",
   "language": "python",
   "name": "python3"
  },
  "language_info": {
   "codemirror_mode": {
    "name": "ipython",
    "version": 3
   },
   "file_extension": ".py",
   "mimetype": "text/x-python",
   "name": "python",
   "nbconvert_exporter": "python",
   "pygments_lexer": "ipython3",
   "version": "3.10.8"
  }
 },
 "nbformat": 4,
 "nbformat_minor": 5
}
