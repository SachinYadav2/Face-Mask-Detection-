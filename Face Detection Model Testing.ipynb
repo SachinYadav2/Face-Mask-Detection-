{
 "cells": [
  {
   "cell_type": "code",
   "execution_count": null,
   "id": "87c7f1bc",
   "metadata": {},
   "outputs": [],
   "source": [
    "import cv2\n",
    "harr = cv2.CascadeClassifier(cv2.data.haarcascades + 'haarcascade_frontalface_default.xml')\n",
    "\n",
    "import numpy as np"
   ]
  },
  {
   "cell_type": "code",
   "execution_count": null,
   "id": "408f1356",
   "metadata": {},
   "outputs": [],
   "source": [
    "capture = cv2.VideoCapture(0)\n",
    "\n",
    "font = cv2.FONT_HERSHEY_COMPLEX\n",
    "\n",
    "while True:\n",
    "    \n",
    "    # yha hmarae img me image store hoti h per seond ke minuts se\n",
    "    flag  , img = capture.read()\n",
    "    \n",
    "    if flag: # Ye Flag btata h ke image capture ke ja rhi h \n",
    "        # Jb ye True hoga tabhi hm image me se face ke coodenates nikal paenge\n",
    "        \n",
    "        faces = harr.detectMultiScale(img)\n",
    "        for x , y , w , h in faces:\n",
    "            cv2.rectangle(img , (x , y) , (x+w , y+h) ,(255 ,0 ,255), 4)\n",
    "            # \n",
    "            face = img[y:y+h, x:x+w]\n",
    "            \n",
    "            \n",
    "\n",
    "           \n",
    "            \n",
    "\n",
    "\n",
    "        cv2.imshow('result', img)\n",
    "        if cv2.waitKey(2) == 27:\n",
    "            break\n",
    "capture.release()\n",
    "cv2.destroyAllWindows()\n",
    "            "
   ]
  },
  {
   "cell_type": "code",
   "execution_count": null,
   "id": "79a2a6eb",
   "metadata": {},
   "outputs": [],
   "source": []
  },
  {
   "cell_type": "code",
   "execution_count": null,
   "id": "5bcedba8",
   "metadata": {},
   "outputs": [],
   "source": []
  }
 ],
 "metadata": {
  "kernelspec": {
   "display_name": "Python 3 (ipykernel)",
   "language": "python",
   "name": "python3"
  },
  "language_info": {
   "codemirror_mode": {
    "name": "ipython",
    "version": 3
   },
   "file_extension": ".py",
   "mimetype": "text/x-python",
   "name": "python",
   "nbconvert_exporter": "python",
   "pygments_lexer": "ipython3",
   "version": "3.10.8"
  }
 },
 "nbformat": 4,
 "nbformat_minor": 5
}
